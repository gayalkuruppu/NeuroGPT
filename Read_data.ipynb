{
 "cells": [
  {
   "cell_type": "code",
   "execution_count": 3,
   "id": "5d0e5f78-7590-412e-aa0d-c93024376c40",
   "metadata": {},
   "outputs": [],
   "source": [
    "import numpy as np\n",
    "import mne\n",
    "import matplotlib"
   ]
  },
  {
   "cell_type": "code",
   "execution_count": 13,
   "id": "914f0459-127e-4418-93fb-bd0588905cff",
   "metadata": {},
   "outputs": [
    {
     "name": "stdout",
     "output_type": "stream",
     "text": [
      "Total: 0 Count: 0\n",
      "Total: 10 Count: 0\n",
      "Total: 20 Count: 0\n",
      "Total: 30 Count: 0\n",
      "Total: 40 Count: 0\n",
      "Total: 50 Count: 0\n",
      "Total: 60 Count: 0\n",
      "Total: 70 Count: 0\n",
      "Total: 80 Count: 0\n",
      "Total: 90 Count: 0\n",
      "Total: 100 Count: 0\n",
      "Total: 110 Count: 0\n",
      "Total: 120 Count: 0\n",
      "Total: 130 Count: 0\n",
      "Total: 140 Count: 0\n",
      "Total: 150 Count: 0\n",
      "Total: 160 Count: 0\n",
      "Total: 170 Count: 0\n",
      "Total: 180 Count: 0\n",
      "Total: 190 Count: 0\n",
      "Total: 200 Count: 0\n",
      "Total: 210 Count: 0\n",
      "Total: 220 Count: 0\n",
      "Total: 230 Count: 0\n",
      "Total: 240 Count: 0\n",
      "Total: 250 Count: 0\n",
      "Total: 260 Count: 0\n",
      "Total: 270 Count: 0\n",
      "Total: 280 Count: 0\n",
      "Total: 290 Count: 0\n",
      "Total: 300 Count: 0\n",
      "Total: 310 Count: 0\n",
      "Total: 320 Count: 0\n",
      "Total: 330 Count: 0\n",
      "Total: 340 Count: 0\n",
      "Total: 350 Count: 0\n",
      "Total: 360 Count: 0\n",
      "Total: 370 Count: 0\n",
      "Total: 380 Count: 0\n",
      "Total: 390 Count: 0\n",
      "Total: 400 Count: 0\n",
      "Total: 410 Count: 0\n",
      "Total: 420 Count: 0\n",
      "Total: 430 Count: 0\n",
      "Total: 440 Count: 0\n",
      "Total: 450 Count: 0\n",
      "Total: 460 Count: 0\n",
      "Total: 470 Count: 0\n",
      "Total: 480 Count: 0\n",
      "Total: 490 Count: 0\n",
      "Total: 500 Count: 0\n",
      "Total: 510 Count: 0\n",
      "Total: 520 Count: 0\n",
      "Total: 530 Count: 0\n",
      "Total: 540 Count: 0\n",
      "Total: 550 Count: 0\n",
      "Total: 560 Count: 0\n",
      "Total: 570 Count: 0\n",
      "Total: 580 Count: 0\n",
      "Total: 590 Count: 0\n",
      "Total: 600 Count: 0\n",
      "Total: 610 Count: 0\n",
      "Total: 620 Count: 0\n",
      "Total: 630 Count: 0\n",
      "Total: 640 Count: 0\n",
      "Total: 650 Count: 0\n",
      "Total: 660 Count: 0\n",
      "Total: 670 Count: 0\n",
      "Total: 680 Count: 0\n",
      "Total: 690 Count: 0\n",
      "Total: 700 Count: 0\n",
      "Total: 710 Count: 0\n",
      "Total: 720 Count: 0\n",
      "Total: 730 Count: 0\n",
      "Total: 740 Count: 0\n",
      "Total: 750 Count: 0\n",
      "Total: 760 Count: 0\n",
      "Total: 770 Count: 0\n",
      "Total: 780 Count: 0\n"
     ]
    },
    {
     "ename": "KeyboardInterrupt",
     "evalue": "",
     "output_type": "error",
     "traceback": [
      "\u001b[0;31m---------------------------------------------------------------------------\u001b[0m",
      "\u001b[0;31mKeyboardInterrupt\u001b[0m                         Traceback (most recent call last)",
      "Cell \u001b[0;32mIn[13], line 30\u001b[0m\n\u001b[1;32m     28\u001b[0m             total \u001b[38;5;241m+\u001b[39m\u001b[38;5;241m=\u001b[39m \u001b[38;5;241m1\u001b[39m\n\u001b[1;32m     29\u001b[0m             data_path \u001b[38;5;241m=\u001b[39m os\u001b[38;5;241m.\u001b[39mpath\u001b[38;5;241m.\u001b[39mjoin(root, file)\n\u001b[0;32m---> 30\u001b[0m             \u001b[38;5;28;01mif\u001b[39;00m \u001b[43mis_OZ_present\u001b[49m\u001b[43m(\u001b[49m\u001b[43mdata_path\u001b[49m\u001b[43m)\u001b[49m:\n\u001b[1;32m     31\u001b[0m                 count \u001b[38;5;241m+\u001b[39m\u001b[38;5;241m=\u001b[39m \u001b[38;5;241m1\u001b[39m\n\u001b[1;32m     32\u001b[0m \u001b[38;5;66;03m# break from both loops when count reaches 1\u001b[39;00m\n",
      "Cell \u001b[0;32mIn[13], line 5\u001b[0m, in \u001b[0;36mis_OZ_present\u001b[0;34m(data_path)\u001b[0m\n\u001b[1;32m      4\u001b[0m \u001b[38;5;28;01mdef\u001b[39;00m\u001b[38;5;250m \u001b[39m\u001b[38;5;21mis_OZ_present\u001b[39m(data_path):\n\u001b[0;32m----> 5\u001b[0m     raw \u001b[38;5;241m=\u001b[39m \u001b[43mmne\u001b[49m\u001b[38;5;241;43m.\u001b[39;49m\u001b[43mio\u001b[49m\u001b[38;5;241;43m.\u001b[39;49m\u001b[43mread_raw_edf\u001b[49m\u001b[43m(\u001b[49m\u001b[43mdata_path\u001b[49m\u001b[43m,\u001b[49m\u001b[43m \u001b[49m\u001b[43mpreload\u001b[49m\u001b[38;5;241;43m=\u001b[39;49m\u001b[38;5;28;43;01mTrue\u001b[39;49;00m\u001b[43m,\u001b[49m\u001b[43m \u001b[49m\u001b[43mverbose\u001b[49m\u001b[38;5;241;43m=\u001b[39;49m\u001b[38;5;28;43;01mFalse\u001b[39;49;00m\u001b[43m)\u001b[49m\n\u001b[1;32m      6\u001b[0m     channels \u001b[38;5;241m=\u001b[39m raw\u001b[38;5;241m.\u001b[39mch_names\n\u001b[1;32m      7\u001b[0m     \u001b[38;5;66;03m# print(channels)\u001b[39;00m\n",
      "File \u001b[0;32m~/ssl-analyses-repos/NeuroGPT/neurogpt-venv/lib/python3.9/site-packages/mne/io/edf/edf.py:1689\u001b[0m, in \u001b[0;36mread_raw_edf\u001b[0;34m(input_fname, eog, misc, stim_channel, exclude, infer_types, include, preload, units, encoding, exclude_after_unique, verbose)\u001b[0m\n\u001b[1;32m   1687\u001b[0m \u001b[38;5;28;01mif\u001b[39;00m ext \u001b[38;5;241m!=\u001b[39m \u001b[38;5;124m\"\u001b[39m\u001b[38;5;124medf\u001b[39m\u001b[38;5;124m\"\u001b[39m:\n\u001b[1;32m   1688\u001b[0m     \u001b[38;5;28;01mraise\u001b[39;00m \u001b[38;5;167;01mNotImplementedError\u001b[39;00m(\u001b[38;5;124mf\u001b[39m\u001b[38;5;124m\"\u001b[39m\u001b[38;5;124mOnly EDF files are supported, got \u001b[39m\u001b[38;5;132;01m{\u001b[39;00mext\u001b[38;5;132;01m}\u001b[39;00m\u001b[38;5;124m.\u001b[39m\u001b[38;5;124m\"\u001b[39m)\n\u001b[0;32m-> 1689\u001b[0m \u001b[38;5;28;01mreturn\u001b[39;00m \u001b[43mRawEDF\u001b[49m\u001b[43m(\u001b[49m\n\u001b[1;32m   1690\u001b[0m \u001b[43m    \u001b[49m\u001b[43minput_fname\u001b[49m\u001b[38;5;241;43m=\u001b[39;49m\u001b[43minput_fname\u001b[49m\u001b[43m,\u001b[49m\n\u001b[1;32m   1691\u001b[0m \u001b[43m    \u001b[49m\u001b[43meog\u001b[49m\u001b[38;5;241;43m=\u001b[39;49m\u001b[43meog\u001b[49m\u001b[43m,\u001b[49m\n\u001b[1;32m   1692\u001b[0m \u001b[43m    \u001b[49m\u001b[43mmisc\u001b[49m\u001b[38;5;241;43m=\u001b[39;49m\u001b[43mmisc\u001b[49m\u001b[43m,\u001b[49m\n\u001b[1;32m   1693\u001b[0m \u001b[43m    \u001b[49m\u001b[43mstim_channel\u001b[49m\u001b[38;5;241;43m=\u001b[39;49m\u001b[43mstim_channel\u001b[49m\u001b[43m,\u001b[49m\n\u001b[1;32m   1694\u001b[0m \u001b[43m    \u001b[49m\u001b[43mexclude\u001b[49m\u001b[38;5;241;43m=\u001b[39;49m\u001b[43mexclude\u001b[49m\u001b[43m,\u001b[49m\n\u001b[1;32m   1695\u001b[0m \u001b[43m    \u001b[49m\u001b[43minfer_types\u001b[49m\u001b[38;5;241;43m=\u001b[39;49m\u001b[43minfer_types\u001b[49m\u001b[43m,\u001b[49m\n\u001b[1;32m   1696\u001b[0m \u001b[43m    \u001b[49m\u001b[43mpreload\u001b[49m\u001b[38;5;241;43m=\u001b[39;49m\u001b[43mpreload\u001b[49m\u001b[43m,\u001b[49m\n\u001b[1;32m   1697\u001b[0m \u001b[43m    \u001b[49m\u001b[43minclude\u001b[49m\u001b[38;5;241;43m=\u001b[39;49m\u001b[43minclude\u001b[49m\u001b[43m,\u001b[49m\n\u001b[1;32m   1698\u001b[0m \u001b[43m    \u001b[49m\u001b[43munits\u001b[49m\u001b[38;5;241;43m=\u001b[39;49m\u001b[43munits\u001b[49m\u001b[43m,\u001b[49m\n\u001b[1;32m   1699\u001b[0m \u001b[43m    \u001b[49m\u001b[43mencoding\u001b[49m\u001b[38;5;241;43m=\u001b[39;49m\u001b[43mencoding\u001b[49m\u001b[43m,\u001b[49m\n\u001b[1;32m   1700\u001b[0m \u001b[43m    \u001b[49m\u001b[43mexclude_after_unique\u001b[49m\u001b[38;5;241;43m=\u001b[39;49m\u001b[43mexclude_after_unique\u001b[49m\u001b[43m,\u001b[49m\n\u001b[1;32m   1701\u001b[0m \u001b[43m    \u001b[49m\u001b[43mverbose\u001b[49m\u001b[38;5;241;43m=\u001b[39;49m\u001b[43mverbose\u001b[49m\u001b[43m,\u001b[49m\n\u001b[1;32m   1702\u001b[0m \u001b[43m\u001b[49m\u001b[43m)\u001b[49m\n",
      "File \u001b[0;32m<decorator-gen-203>:10\u001b[0m, in \u001b[0;36m__init__\u001b[0;34m(self, input_fname, eog, misc, stim_channel, exclude, infer_types, preload, include, units, encoding, exclude_after_unique, verbose)\u001b[0m\n",
      "File \u001b[0;32m~/ssl-analyses-repos/NeuroGPT/neurogpt-venv/lib/python3.9/site-packages/mne/io/edf/edf.py:187\u001b[0m, in \u001b[0;36mRawEDF.__init__\u001b[0;34m(self, input_fname, eog, misc, stim_channel, exclude, infer_types, preload, include, units, encoding, exclude_after_unique, verbose)\u001b[0m\n\u001b[1;32m    185\u001b[0m \u001b[38;5;66;03m# Raw attributes\u001b[39;00m\n\u001b[1;32m    186\u001b[0m last_samps \u001b[38;5;241m=\u001b[39m [edf_info[\u001b[38;5;124m\"\u001b[39m\u001b[38;5;124mnsamples\u001b[39m\u001b[38;5;124m\"\u001b[39m] \u001b[38;5;241m-\u001b[39m \u001b[38;5;241m1\u001b[39m]\n\u001b[0;32m--> 187\u001b[0m \u001b[38;5;28;43msuper\u001b[39;49m\u001b[43m(\u001b[49m\u001b[43m)\u001b[49m\u001b[38;5;241;43m.\u001b[39;49m\u001b[38;5;21;43m__init__\u001b[39;49m\u001b[43m(\u001b[49m\n\u001b[1;32m    188\u001b[0m \u001b[43m    \u001b[49m\u001b[43minfo\u001b[49m\u001b[43m,\u001b[49m\n\u001b[1;32m    189\u001b[0m \u001b[43m    \u001b[49m\u001b[43mpreload\u001b[49m\u001b[43m,\u001b[49m\n\u001b[1;32m    190\u001b[0m \u001b[43m    \u001b[49m\u001b[43mfilenames\u001b[49m\u001b[38;5;241;43m=\u001b[39;49m\u001b[43m[\u001b[49m\u001b[43minput_fname\u001b[49m\u001b[43m]\u001b[49m\u001b[43m,\u001b[49m\n\u001b[1;32m    191\u001b[0m \u001b[43m    \u001b[49m\u001b[43mraw_extras\u001b[49m\u001b[38;5;241;43m=\u001b[39;49m\u001b[43m[\u001b[49m\u001b[43medf_info\u001b[49m\u001b[43m]\u001b[49m\u001b[43m,\u001b[49m\n\u001b[1;32m    192\u001b[0m \u001b[43m    \u001b[49m\u001b[43mlast_samps\u001b[49m\u001b[38;5;241;43m=\u001b[39;49m\u001b[43mlast_samps\u001b[49m\u001b[43m,\u001b[49m\n\u001b[1;32m    193\u001b[0m \u001b[43m    \u001b[49m\u001b[43morig_format\u001b[49m\u001b[38;5;241;43m=\u001b[39;49m\u001b[38;5;124;43m\"\u001b[39;49m\u001b[38;5;124;43mint\u001b[39;49m\u001b[38;5;124;43m\"\u001b[39;49m\u001b[43m,\u001b[49m\n\u001b[1;32m    194\u001b[0m \u001b[43m    \u001b[49m\u001b[43morig_units\u001b[49m\u001b[38;5;241;43m=\u001b[39;49m\u001b[43morig_units\u001b[49m\u001b[43m,\u001b[49m\n\u001b[1;32m    195\u001b[0m \u001b[43m    \u001b[49m\u001b[43mverbose\u001b[49m\u001b[38;5;241;43m=\u001b[39;49m\u001b[43mverbose\u001b[49m\u001b[43m,\u001b[49m\n\u001b[1;32m    196\u001b[0m \u001b[43m\u001b[49m\u001b[43m)\u001b[49m\n\u001b[1;32m    198\u001b[0m \u001b[38;5;66;03m# Read annotations from file and set it\u001b[39;00m\n\u001b[1;32m    199\u001b[0m \u001b[38;5;28;01mif\u001b[39;00m \u001b[38;5;28mlen\u001b[39m(edf_info[\u001b[38;5;124m\"\u001b[39m\u001b[38;5;124mtal_idx\u001b[39m\u001b[38;5;124m\"\u001b[39m]) \u001b[38;5;241m>\u001b[39m \u001b[38;5;241m0\u001b[39m:\n\u001b[1;32m    200\u001b[0m     \u001b[38;5;66;03m# Read TAL data exploiting the header info (no regexp)\u001b[39;00m\n",
      "File \u001b[0;32m<decorator-gen-185>:10\u001b[0m, in \u001b[0;36m__init__\u001b[0;34m(self, info, preload, first_samps, last_samps, filenames, raw_extras, orig_format, dtype, buffer_size_sec, orig_units, verbose)\u001b[0m\n",
      "File \u001b[0;32m~/ssl-analyses-repos/NeuroGPT/neurogpt-venv/lib/python3.9/site-packages/mne/io/base.py:301\u001b[0m, in \u001b[0;36mBaseRaw.__init__\u001b[0;34m(self, info, preload, first_samps, last_samps, filenames, raw_extras, orig_format, dtype, buffer_size_sec, orig_units, verbose)\u001b[0m\n\u001b[1;32m    299\u001b[0m \u001b[38;5;66;03m# If we have True or a string, actually do the preloading\u001b[39;00m\n\u001b[1;32m    300\u001b[0m \u001b[38;5;28;01mif\u001b[39;00m load_from_disk:\n\u001b[0;32m--> 301\u001b[0m     \u001b[38;5;28;43mself\u001b[39;49m\u001b[38;5;241;43m.\u001b[39;49m\u001b[43m_preload_data\u001b[49m\u001b[43m(\u001b[49m\u001b[43mpreload\u001b[49m\u001b[43m)\u001b[49m\n\u001b[1;32m    302\u001b[0m \u001b[38;5;28mself\u001b[39m\u001b[38;5;241m.\u001b[39m_init_kwargs \u001b[38;5;241m=\u001b[39m _get_argvalues()\n",
      "File \u001b[0;32m~/ssl-analyses-repos/NeuroGPT/neurogpt-venv/lib/python3.9/site-packages/mne/io/base.py:596\u001b[0m, in \u001b[0;36mBaseRaw._preload_data\u001b[0;34m(self, preload)\u001b[0m\n\u001b[1;32m    591\u001b[0m     data_buffer \u001b[38;5;241m=\u001b[39m \u001b[38;5;28;01mNone\u001b[39;00m\n\u001b[1;32m    592\u001b[0m logger\u001b[38;5;241m.\u001b[39minfo(\n\u001b[1;32m    593\u001b[0m     \u001b[38;5;124m\"\u001b[39m\u001b[38;5;124mReading \u001b[39m\u001b[38;5;132;01m%d\u001b[39;00m\u001b[38;5;124m ... \u001b[39m\u001b[38;5;132;01m%d\u001b[39;00m\u001b[38;5;124m  =  \u001b[39m\u001b[38;5;132;01m%9.3f\u001b[39;00m\u001b[38;5;124m ... \u001b[39m\u001b[38;5;132;01m%9.3f\u001b[39;00m\u001b[38;5;124m secs...\u001b[39m\u001b[38;5;124m\"\u001b[39m\n\u001b[1;32m    594\u001b[0m     \u001b[38;5;241m%\u001b[39m (\u001b[38;5;241m0\u001b[39m, \u001b[38;5;28mlen\u001b[39m(\u001b[38;5;28mself\u001b[39m\u001b[38;5;241m.\u001b[39mtimes) \u001b[38;5;241m-\u001b[39m \u001b[38;5;241m1\u001b[39m, \u001b[38;5;241m0.0\u001b[39m, \u001b[38;5;28mself\u001b[39m\u001b[38;5;241m.\u001b[39mtimes[\u001b[38;5;241m-\u001b[39m\u001b[38;5;241m1\u001b[39m])\n\u001b[1;32m    595\u001b[0m )\n\u001b[0;32m--> 596\u001b[0m \u001b[38;5;28mself\u001b[39m\u001b[38;5;241m.\u001b[39m_data \u001b[38;5;241m=\u001b[39m \u001b[38;5;28;43mself\u001b[39;49m\u001b[38;5;241;43m.\u001b[39;49m\u001b[43m_read_segment\u001b[49m\u001b[43m(\u001b[49m\u001b[43mdata_buffer\u001b[49m\u001b[38;5;241;43m=\u001b[39;49m\u001b[43mdata_buffer\u001b[49m\u001b[43m)\u001b[49m\n\u001b[1;32m    597\u001b[0m \u001b[38;5;28;01massert\u001b[39;00m \u001b[38;5;28mlen\u001b[39m(\u001b[38;5;28mself\u001b[39m\u001b[38;5;241m.\u001b[39m_data) \u001b[38;5;241m==\u001b[39m \u001b[38;5;28mself\u001b[39m\u001b[38;5;241m.\u001b[39minfo[\u001b[38;5;124m\"\u001b[39m\u001b[38;5;124mnchan\u001b[39m\u001b[38;5;124m\"\u001b[39m]\n\u001b[1;32m    598\u001b[0m \u001b[38;5;28mself\u001b[39m\u001b[38;5;241m.\u001b[39mpreload \u001b[38;5;241m=\u001b[39m \u001b[38;5;28;01mTrue\u001b[39;00m\n",
      "File \u001b[0;32m<decorator-gen-187>:12\u001b[0m, in \u001b[0;36m_read_segment\u001b[0;34m(self, start, stop, sel, data_buffer, verbose)\u001b[0m\n",
      "File \u001b[0;32m~/ssl-analyses-repos/NeuroGPT/neurogpt-venv/lib/python3.9/site-packages/mne/io/base.py:472\u001b[0m, in \u001b[0;36mBaseRaw._read_segment\u001b[0;34m(***failed resolving arguments***)\u001b[0m\n\u001b[1;32m    470\u001b[0m     \u001b[38;5;66;03m# reindex back to original file\u001b[39;00m\n\u001b[1;32m    471\u001b[0m     orig_idx \u001b[38;5;241m=\u001b[39m _convert_slice(\u001b[38;5;28mself\u001b[39m\u001b[38;5;241m.\u001b[39m_read_picks[fi][need_idx])\n\u001b[0;32m--> 472\u001b[0m     \u001b[43m_ReadSegmentFileProtector\u001b[49m\u001b[43m(\u001b[49m\u001b[38;5;28;43mself\u001b[39;49m\u001b[43m)\u001b[49m\u001b[38;5;241;43m.\u001b[39;49m\u001b[43m_read_segment_file\u001b[49m\u001b[43m(\u001b[49m\n\u001b[1;32m    473\u001b[0m \u001b[43m        \u001b[49m\u001b[43mdata\u001b[49m\u001b[43m[\u001b[49m\u001b[43m:\u001b[49m\u001b[43m,\u001b[49m\u001b[43m \u001b[49m\u001b[43mthis_sl\u001b[49m\u001b[43m]\u001b[49m\u001b[43m,\u001b[49m\n\u001b[1;32m    474\u001b[0m \u001b[43m        \u001b[49m\u001b[43morig_idx\u001b[49m\u001b[43m,\u001b[49m\n\u001b[1;32m    475\u001b[0m \u001b[43m        \u001b[49m\u001b[43mfi\u001b[49m\u001b[43m,\u001b[49m\n\u001b[1;32m    476\u001b[0m \u001b[43m        \u001b[49m\u001b[38;5;28;43mint\u001b[39;49m\u001b[43m(\u001b[49m\u001b[43mstart_file\u001b[49m\u001b[43m)\u001b[49m\u001b[43m,\u001b[49m\n\u001b[1;32m    477\u001b[0m \u001b[43m        \u001b[49m\u001b[38;5;28;43mint\u001b[39;49m\u001b[43m(\u001b[49m\u001b[43mstop_file\u001b[49m\u001b[43m)\u001b[49m\u001b[43m,\u001b[49m\n\u001b[1;32m    478\u001b[0m \u001b[43m        \u001b[49m\u001b[43mcals\u001b[49m\u001b[43m,\u001b[49m\n\u001b[1;32m    479\u001b[0m \u001b[43m        \u001b[49m\u001b[43mmult\u001b[49m\u001b[43m,\u001b[49m\n\u001b[1;32m    480\u001b[0m \u001b[43m    \u001b[49m\u001b[43m)\u001b[49m\n\u001b[1;32m    481\u001b[0m     offset \u001b[38;5;241m+\u001b[39m\u001b[38;5;241m=\u001b[39m n_read\n\u001b[1;32m    482\u001b[0m \u001b[38;5;28;01mreturn\u001b[39;00m data\n",
      "File \u001b[0;32m~/ssl-analyses-repos/NeuroGPT/neurogpt-venv/lib/python3.9/site-packages/mne/io/base.py:2598\u001b[0m, in \u001b[0;36m_ReadSegmentFileProtector._read_segment_file\u001b[0;34m(self, data, idx, fi, start, stop, cals, mult)\u001b[0m\n\u001b[1;32m   2597\u001b[0m \u001b[38;5;28;01mdef\u001b[39;00m\u001b[38;5;250m \u001b[39m\u001b[38;5;21m_read_segment_file\u001b[39m(\u001b[38;5;28mself\u001b[39m, data, idx, fi, start, stop, cals, mult):\n\u001b[0;32m-> 2598\u001b[0m     \u001b[38;5;28;01mreturn\u001b[39;00m \u001b[38;5;28;43mself\u001b[39;49m\u001b[38;5;241;43m.\u001b[39;49m\u001b[43m__raw\u001b[49m\u001b[38;5;241;43m.\u001b[39;49m\u001b[38;5;18;43m__class__\u001b[39;49m\u001b[38;5;241;43m.\u001b[39;49m\u001b[43m_read_segment_file\u001b[49m\u001b[43m(\u001b[49m\n\u001b[1;32m   2599\u001b[0m \u001b[43m        \u001b[49m\u001b[38;5;28;43mself\u001b[39;49m\u001b[43m,\u001b[49m\u001b[43m \u001b[49m\u001b[43mdata\u001b[49m\u001b[43m,\u001b[49m\u001b[43m \u001b[49m\u001b[43midx\u001b[49m\u001b[43m,\u001b[49m\u001b[43m \u001b[49m\u001b[43mfi\u001b[49m\u001b[43m,\u001b[49m\u001b[43m \u001b[49m\u001b[43mstart\u001b[49m\u001b[43m,\u001b[49m\u001b[43m \u001b[49m\u001b[43mstop\u001b[49m\u001b[43m,\u001b[49m\u001b[43m \u001b[49m\u001b[43mcals\u001b[49m\u001b[43m,\u001b[49m\u001b[43m \u001b[49m\u001b[43mmult\u001b[49m\n\u001b[1;32m   2600\u001b[0m \u001b[43m    \u001b[49m\u001b[43m)\u001b[49m\n",
      "File \u001b[0;32m~/ssl-analyses-repos/NeuroGPT/neurogpt-venv/lib/python3.9/site-packages/mne/io/edf/edf.py:220\u001b[0m, in \u001b[0;36mRawEDF._read_segment_file\u001b[0;34m(self, data, idx, fi, start, stop, cals, mult)\u001b[0m\n\u001b[1;32m    218\u001b[0m \u001b[38;5;28;01mdef\u001b[39;00m\u001b[38;5;250m \u001b[39m\u001b[38;5;21m_read_segment_file\u001b[39m(\u001b[38;5;28mself\u001b[39m, data, idx, fi, start, stop, cals, mult):\n\u001b[1;32m    219\u001b[0m \u001b[38;5;250m    \u001b[39m\u001b[38;5;124;03m\"\"\"Read a chunk of raw data.\"\"\"\u001b[39;00m\n\u001b[0;32m--> 220\u001b[0m     \u001b[38;5;28;01mreturn\u001b[39;00m \u001b[43m_read_segment_file\u001b[49m\u001b[43m(\u001b[49m\n\u001b[1;32m    221\u001b[0m \u001b[43m        \u001b[49m\u001b[43mdata\u001b[49m\u001b[43m,\u001b[49m\n\u001b[1;32m    222\u001b[0m \u001b[43m        \u001b[49m\u001b[43midx\u001b[49m\u001b[43m,\u001b[49m\n\u001b[1;32m    223\u001b[0m \u001b[43m        \u001b[49m\u001b[43mfi\u001b[49m\u001b[43m,\u001b[49m\n\u001b[1;32m    224\u001b[0m \u001b[43m        \u001b[49m\u001b[43mstart\u001b[49m\u001b[43m,\u001b[49m\n\u001b[1;32m    225\u001b[0m \u001b[43m        \u001b[49m\u001b[43mstop\u001b[49m\u001b[43m,\u001b[49m\n\u001b[1;32m    226\u001b[0m \u001b[43m        \u001b[49m\u001b[38;5;28;43mself\u001b[39;49m\u001b[38;5;241;43m.\u001b[39;49m\u001b[43m_raw_extras\u001b[49m\u001b[43m[\u001b[49m\u001b[43mfi\u001b[49m\u001b[43m]\u001b[49m\u001b[43m,\u001b[49m\n\u001b[1;32m    227\u001b[0m \u001b[43m        \u001b[49m\u001b[38;5;28;43mself\u001b[39;49m\u001b[38;5;241;43m.\u001b[39;49m\u001b[43m_filenames\u001b[49m\u001b[43m[\u001b[49m\u001b[43mfi\u001b[49m\u001b[43m]\u001b[49m\u001b[43m,\u001b[49m\n\u001b[1;32m    228\u001b[0m \u001b[43m        \u001b[49m\u001b[43mcals\u001b[49m\u001b[43m,\u001b[49m\n\u001b[1;32m    229\u001b[0m \u001b[43m        \u001b[49m\u001b[43mmult\u001b[49m\u001b[43m,\u001b[49m\n\u001b[1;32m    230\u001b[0m \u001b[43m    \u001b[49m\u001b[43m)\u001b[49m\n",
      "File \u001b[0;32m~/ssl-analyses-repos/NeuroGPT/neurogpt-venv/lib/python3.9/site-packages/mne/io/edf/edf.py:398\u001b[0m, in \u001b[0;36m_read_segment_file\u001b[0;34m(data, idx, fi, start, stop, raw_extras, filenames, cals, mult)\u001b[0m\n\u001b[1;32m    396\u001b[0m fid\u001b[38;5;241m.\u001b[39mseek(start_offset \u001b[38;5;241m+\u001b[39m block_offset, \u001b[38;5;241m0\u001b[39m)\n\u001b[1;32m    397\u001b[0m \u001b[38;5;66;03m# Read and reshape to (n_chunks_read, ch0_ch1_ch2_ch3...)\u001b[39;00m\n\u001b[0;32m--> 398\u001b[0m many_chunk \u001b[38;5;241m=\u001b[39m \u001b[43m_read_ch\u001b[49m\u001b[43m(\u001b[49m\n\u001b[1;32m    399\u001b[0m \u001b[43m    \u001b[49m\u001b[43mfid\u001b[49m\u001b[43m,\u001b[49m\u001b[43m \u001b[49m\u001b[43msubtype\u001b[49m\u001b[43m,\u001b[49m\u001b[43m \u001b[49m\u001b[43mch_offsets\u001b[49m\u001b[43m[\u001b[49m\u001b[38;5;241;43m-\u001b[39;49m\u001b[38;5;241;43m1\u001b[39;49m\u001b[43m]\u001b[49m\u001b[43m \u001b[49m\u001b[38;5;241;43m*\u001b[39;49m\u001b[43m \u001b[49m\u001b[43mn_read\u001b[49m\u001b[43m,\u001b[49m\u001b[43m \u001b[49m\u001b[43mdtype_byte\u001b[49m\u001b[43m,\u001b[49m\u001b[43m \u001b[49m\u001b[43mdtype\u001b[49m\n\u001b[1;32m    400\u001b[0m \u001b[43m\u001b[49m\u001b[43m)\u001b[49m\u001b[38;5;241m.\u001b[39mreshape(n_read, \u001b[38;5;241m-\u001b[39m\u001b[38;5;241m1\u001b[39m)\n\u001b[1;32m    401\u001b[0m r_sidx \u001b[38;5;241m=\u001b[39m r_lims[ai][\u001b[38;5;241m0\u001b[39m]\n\u001b[1;32m    402\u001b[0m r_eidx \u001b[38;5;241m=\u001b[39m buf_len \u001b[38;5;241m*\u001b[39m (n_read \u001b[38;5;241m-\u001b[39m \u001b[38;5;241m1\u001b[39m) \u001b[38;5;241m+\u001b[39m r_lims[ai \u001b[38;5;241m+\u001b[39m n_read \u001b[38;5;241m-\u001b[39m \u001b[38;5;241m1\u001b[39m][\u001b[38;5;241m1\u001b[39m]\n",
      "File \u001b[0;32m~/ssl-analyses-repos/NeuroGPT/neurogpt-venv/lib/python3.9/site-packages/mne/io/edf/edf.py:347\u001b[0m, in \u001b[0;36m_read_ch\u001b[0;34m(fid, subtype, samp, dtype_byte, dtype)\u001b[0m\n\u001b[1;32m    343\u001b[0m     ch_data[ch_data \u001b[38;5;241m>\u001b[39m\u001b[38;5;241m=\u001b[39m (\u001b[38;5;241m1\u001b[39m \u001b[38;5;241m<<\u001b[39m \u001b[38;5;241m23\u001b[39m)] \u001b[38;5;241m-\u001b[39m\u001b[38;5;241m=\u001b[39m \u001b[38;5;241m1\u001b[39m \u001b[38;5;241m<<\u001b[39m \u001b[38;5;241m24\u001b[39m\n\u001b[1;32m    345\u001b[0m \u001b[38;5;66;03m# GDF data and EDF data\u001b[39;00m\n\u001b[1;32m    346\u001b[0m \u001b[38;5;28;01melse\u001b[39;00m:\n\u001b[0;32m--> 347\u001b[0m     ch_data \u001b[38;5;241m=\u001b[39m \u001b[43mnp\u001b[49m\u001b[38;5;241;43m.\u001b[39;49m\u001b[43mfromfile\u001b[49m\u001b[43m(\u001b[49m\u001b[43mfid\u001b[49m\u001b[43m,\u001b[49m\u001b[43m \u001b[49m\u001b[43mdtype\u001b[49m\u001b[38;5;241;43m=\u001b[39;49m\u001b[43mdtype\u001b[49m\u001b[43m,\u001b[49m\u001b[43m \u001b[49m\u001b[43mcount\u001b[49m\u001b[38;5;241;43m=\u001b[39;49m\u001b[43msamp\u001b[49m\u001b[43m)\u001b[49m\n\u001b[1;32m    349\u001b[0m \u001b[38;5;28;01mreturn\u001b[39;00m ch_data\n",
      "\u001b[0;31mKeyboardInterrupt\u001b[0m: "
     ]
    }
   ],
   "source": [
    "data_path = '/data/datasets/timeseries/eeg/scalp/tuh/edf/000/aaaaaaaa/s001_2015_12_30/01_tcp_ar/aaaaaaaa_s001_t000.edf'\n",
    "data_dir = '/data/datasets/timeseries/eeg/scalp/tuh/edf'\n",
    "\n",
    "def is_OZ_present(data_path):\n",
    "    raw = mne.io.read_raw_edf(data_path, preload=True, verbose=False)\n",
    "    channels = raw.ch_names\n",
    "    # print(channels)\n",
    "    EEG_chs = mne.pick_types(raw.info, eeg=True, eog=False, stim=False)\n",
    "    mapped_chs = [i.split('-')[0].split(' ')[-1] for i in channels]\n",
    "    # print(mapped_chs)\n",
    "    if 'OZ' in mapped_chs:\n",
    "        print('OZ is in the list', data_path)\n",
    "        return True\n",
    "    else:\n",
    "        return False\n",
    "\n",
    "# walk in data_dir to find .edf files and count edf files with OZ channel\n",
    "import os\n",
    "\n",
    "count = 0\n",
    "total = 0\n",
    "for root, dirs, files in os.walk(data_dir):\n",
    "    for file in files:\n",
    "        if file.endswith('.edf'):\n",
    "            if total % 10 == 0:\n",
    "                print('Total:', total, 'Count:', count)\n",
    "\n",
    "            total += 1\n",
    "            data_path = os.path.join(root, file)\n",
    "            if is_OZ_present(data_path):\n",
    "                count += 1\n",
    "# break from both loops when count reaches 1\n",
    "            if count >= 1:\n",
    "                print('Total:', total, 'Count:', count)\n",
    "                break\n",
    "    if count >= 1:\n",
    "        break\n",
    "print('Total:', total, 'Count:', count)"
   ]
  },
  {
   "cell_type": "code",
   "execution_count": 1,
   "id": "424618af",
   "metadata": {},
   "outputs": [
    {
     "name": "stdout",
     "output_type": "stream",
     "text": [
      "<Info | 8 non-empty values\n",
      " bads: []\n",
      " ch_names: EEG FP1-REF, EEG FP2-REF, EEG F3-REF, EEG F4-REF, EEG C3-REF, ...\n",
      " chs: 31 EEG\n",
      " custom_ref_applied: False\n",
      " highpass: 0.0 Hz\n",
      " lowpass: 128.0 Hz\n",
      " meas_date: 2015-12-30 14:44:21 UTC\n",
      " nchan: 31\n",
      " projs: []\n",
      " sfreq: 256.0 Hz\n",
      " subject_info: 3 items (dict)\n",
      ">\n",
      "['EEG FP1-REF', 'EEG FP2-REF', 'EEG F3-REF', 'EEG F4-REF', 'EEG C3-REF', 'EEG C4-REF', 'EEG P3-REF', 'EEG P4-REF', 'EEG O1-REF', 'EEG O2-REF', 'EEG F7-REF', 'EEG F8-REF', 'EEG T3-REF', 'EEG T4-REF', 'EEG T5-REF', 'EEG T6-REF', 'EEG T1-REF', 'EEG T2-REF', 'EEG FZ-REF', 'EEG CZ-REF', 'EEG PZ-REF', 'EEG EKG1-REF', 'EEG LOC-REF', 'EEG ROC-REF', 'EMG-REF', 'EEG A1-REF', 'EEG A2-REF', 'RESP ABDOMEN-REF', 'IBI', 'BURSTS', 'SUPPR']\n"
     ]
    }
   ],
   "source": [
    "import numpy as np\n",
    "import mne\n",
    "import matplotlib\n",
    "\n",
    "data_path = '/data/datasets/timeseries/eeg/scalp/tuh/edf/000/aaaaaaaa/s001_2015_12_30/01_tcp_ar/aaaaaaaa_s001_t000.edf'\n",
    "\n",
    "raw = mne.io.read_raw_edf(data_path, preload=True, verbose=False)\n",
    "print(raw.info)\n",
    "print(raw.ch_names)"
   ]
  },
  {
   "cell_type": "code",
   "execution_count": 2,
   "id": "dbf4bbdb",
   "metadata": {},
   "outputs": [
    {
     "name": "stdout",
     "output_type": "stream",
     "text": [
      "<Info | 8 non-empty values\n",
      " bads: []\n",
      " ch_names: EEG FP1-REF, EEG FP2-REF, EEG F3-REF, EEG F4-REF, EEG C3-REF, ...\n",
      " chs: 31 EEG\n",
      " custom_ref_applied: False\n",
      " highpass: 0.0 Hz\n",
      " lowpass: 128.0 Hz\n",
      " meas_date: 2015-12-30 14:44:21 UTC\n",
      " nchan: 31\n",
      " projs: []\n",
      " sfreq: 256.0 Hz\n",
      " subject_info: 3 items (dict)\n",
      ">\n",
      "['EEG FP1-REF', 'EEG FP2-REF', 'EEG F3-REF', 'EEG F4-REF', 'EEG C3-REF', 'EEG C4-REF', 'EEG P3-REF', 'EEG P4-REF', 'EEG O1-REF', 'EEG O2-REF', 'EEG F7-REF', 'EEG F8-REF', 'EEG T3-REF', 'EEG T4-REF', 'EEG T5-REF', 'EEG T6-REF', 'EEG T1-REF', 'EEG T2-REF', 'EEG FZ-REF', 'EEG CZ-REF', 'EEG PZ-REF', 'EEG EKG1-REF', 'EEG LOC-REF', 'EEG ROC-REF', 'EMG-REF', 'EEG A1-REF', 'EEG A2-REF', 'RESP ABDOMEN-REF', 'IBI', 'BURSTS', 'SUPPR']\n"
     ]
    }
   ],
   "source": [
    "# get data only for EEG channels\n",
    "raw_eeg = raw.copy().pick('eeg')\n",
    "print(raw_eeg.info)\n",
    "print(raw_eeg.ch_names)"
   ]
  },
  {
   "cell_type": "code",
   "execution_count": 3,
   "id": "ca98ad1e",
   "metadata": {},
   "outputs": [
    {
     "name": "stdout",
     "output_type": "stream",
     "text": [
      "(31, 323840)\n",
      "(31,)\n"
     ]
    },
    {
     "data": {
      "image/png": "[encoded data removed]",
      "text/plain": [
       "<Figure size 640x480 with 1 Axes>"
      ]
     },
     "metadata": {},
     "output_type": "display_data"
    }
   ],
   "source": [
    "# get the mean of the data\n",
    "data = raw_eeg.get_data()\n",
    "print(data.shape)\n",
    "mean_data = np.mean(data, axis=1)\n",
    "print(mean_data.shape)  \n",
    "\n",
    "# plot the mean data\n",
    "import matplotlib.pyplot as plt\n",
    "plt.plot(mean_data)\n",
    "plt.show()"
   ]
  },
  {
   "cell_type": "code",
   "execution_count": null,
   "id": "57f8a881",
   "metadata": {},
   "outputs": [],
   "source": []
  }
 ],
 "metadata": {
  "kernelspec": {
   "display_name": "neurogpt-venv",
   "language": "python",
   "name": "python3"
  },
  "language_info": {
   "codemirror_mode": {
    "name": "ipython",
    "version": 3
   },
   "file_extension": ".py",
   "mimetype": "text/x-python",
   "name": "python",
   "nbconvert_exporter": "python",
   "pygments_lexer": "ipython3",
   "version": "3.9.13"
  }
 },
 "nbformat": 4,
 "nbformat_minor": 5
}
